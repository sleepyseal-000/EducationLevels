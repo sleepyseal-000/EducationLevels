{
 "cells": [
  {
   "cell_type": "markdown",
   "id": "b60c9808",
   "metadata": {},
   "source": [
    "# This is a python tutorial"
   ]
  },
  {
   "cell_type": "markdown",
   "id": "995df9bb",
   "metadata": {},
   "source": [
    "$a=b+c$"
   ]
  },
  {
   "cell_type": "markdown",
   "id": "967c8b8c",
   "metadata": {},
   "source": [
    "# Data Structures"
   ]
  },
  {
   "cell_type": "code",
   "execution_count": 1,
   "id": "0aded30d",
   "metadata": {},
   "outputs": [],
   "source": [
    "L = [1,3,4.9, \"name\", 3]\n",
    "R = (1,3,4.9, \"name\", 3)\n",
    "S = {1,3,4.9, \"name\", 3}\n",
    "D = {23:\"twothree\", 'B':43, 'C': 'CCD'}"
   ]
  },
  {
   "cell_type": "code",
   "execution_count": 2,
   "id": "ceec0d65",
   "metadata": {},
   "outputs": [
    {
     "name": "stdout",
     "output_type": "stream",
     "text": [
      "The type of L is : <class 'list'>\n",
      "The type of L is : <class 'tuple'>\n",
      "The type of L is : <class 'set'>\n",
      "The type of L is : <class 'dict'>\n"
     ]
    }
   ],
   "source": [
    "print(\"The type of L is :\", type(L))\n",
    "print(\"The type of L is :\", type(R))\n",
    "print(\"The type of L is :\", type(S))\n",
    "print(\"The type of L is :\", type(D))"
   ]
  },
  {
   "cell_type": "code",
   "execution_count": 3,
   "id": "d3d0b932",
   "metadata": {},
   "outputs": [
    {
     "name": "stdout",
     "output_type": "stream",
     "text": [
      "[1 2 3 4 5]\n"
     ]
    }
   ],
   "source": [
    "import numpy as np\n",
    "a= np.array([1,2,3,4,5])\n",
    "print(a)"
   ]
  },
  {
   "cell_type": "code",
   "execution_count": 4,
   "id": "e9744f73",
   "metadata": {},
   "outputs": [
    {
     "data": {
      "text/plain": [
       "numpy.ndarray"
      ]
     },
     "execution_count": 4,
     "metadata": {},
     "output_type": "execute_result"
    }
   ],
   "source": [
    "type(a)"
   ]
  },
  {
   "cell_type": "code",
   "execution_count": 5,
   "id": "810a7e4c",
   "metadata": {},
   "outputs": [
    {
     "data": {
      "text/plain": [
       "dtype('int32')"
      ]
     },
     "execution_count": 5,
     "metadata": {},
     "output_type": "execute_result"
    }
   ],
   "source": [
    "a.dtype"
   ]
  },
  {
   "cell_type": "code",
   "execution_count": 6,
   "id": "55a2e6b4",
   "metadata": {},
   "outputs": [],
   "source": [
    "A= np.random.rand(1000)"
   ]
  },
  {
   "cell_type": "code",
   "execution_count": 7,
   "id": "058dc18b",
   "metadata": {},
   "outputs": [],
   "source": [
    "import matplotlib.pyplot as plt"
   ]
  },
  {
   "cell_type": "code",
   "execution_count": 8,
   "id": "d0f0fd27",
   "metadata": {},
   "outputs": [
    {
     "data": {
      "text/plain": [
       "(array([113., 103.,  88.,  93.,  88.,  93., 113., 110.,  96., 103.]),\n",
       " array([6.79146174e-04, 1.00479747e-01, 2.00280347e-01, 3.00080948e-01,\n",
       "        3.99881548e-01, 4.99682149e-01, 5.99482749e-01, 6.99283350e-01,\n",
       "        7.99083950e-01, 8.98884551e-01, 9.98685151e-01]),\n",
       " <BarContainer object of 10 artists>)"
      ]
     },
     "execution_count": 8,
     "metadata": {},
     "output_type": "execute_result"
    },
    {
     "data": {
      "image/png": "[encoded data removed]",
      "text/plain": [
       "<Figure size 432x288 with 1 Axes>"
      ]
     },
     "metadata": {
      "needs_background": "light"
     },
     "output_type": "display_data"
    }
   ],
   "source": [
    "plt.hist(A)"
   ]
  },
  {
   "cell_type": "code",
   "execution_count": null,
   "id": "c1043cff",
   "metadata": {},
   "outputs": [],
   "source": []
  }
 ],
 "metadata": {
  "kernelspec": {
   "display_name": "Python 3",
   "language": "python",
   "name": "python3"
  },
  "language_info": {
   "codemirror_mode": {
    "name": "ipython",
    "version": 3
   },
   "file_extension": ".py",
   "mimetype": "text/x-python",
   "name": "python",
   "nbconvert_exporter": "python",
   "pygments_lexer": "ipython3",
   "version": "3.8.8"
  }
 },
 "nbformat": 4,
 "nbformat_minor": 5
}
